{
  "cells": [
    {
      "cell_type": "markdown",
      "metadata": {
        "language": "markdown"
      },
      "source": [
        "<a href=\"https://colab.research.google.com/github/Prabhsimran1313/CVD_Disease_Prediction_using_ML/blob/main/CVD__Disease_Prediction_ML_using_ML.ipynb\" target=\"_parent\"><img src=\"https://colab.research.google.com/assets/colab-badge.svg\" alt=\"Open In Colab\"/></a>"
      ]
    },
    {
      "cell_type": "markdown",
      "metadata": {
        "language": "markdown"
      },
      "source": [
        "### Importing Libraries"
      ]
    },
    {
      "cell_type": "code",
      "metadata": {
        "language": "python"
      },
      "execution_count": null,
      "outputs": [],
      "source": [
        "!pip install kmodes",
        "!pip install tensorflow"
      ]
    },
    {
      "cell_type": "code",
      "metadata": {
        "language": "python"
      },
      "execution_count": null,
      "outputs": [],
      "source": [
        "import numpy as np",
        "import pandas as pd",
        "from sklearn import metrics, preprocessing",
        "from sklearn.metrics import precision_score, recall_score, f1_score, roc_curve, roc_auc_score",
        "from sklearn.model_selection import train_test_split, cross_val_score, GridSearchCV",
        "from sklearn.linear_model import LogisticRegression",
        "from sklearn.ensemble import RandomForestClassifier",
        "from sklearn.neural_network import MLPClassifier",
        "from sklearn.svm import SVC",
        "from kmodes.kmodes import KModes",
        "from sklearn.metrics import classification_report",
        "from sklearn.preprocessing import LabelEncoder",
        "import tensorflow as tf",
        "from tensorflow.keras.models import Sequential",
        "from tensorflow.keras.layers import Dense, Dropout",
        "from tensorflow.keras.callbacks import EarlyStopping",
        "from sklearn.metrics import classification_report, accuracy_score, confusion_matrix",
        "import matplotlib.pyplot as plt",
        "import seaborn as sns"
      ]
    },
    {
      "cell_type": "code",
      "metadata": {
        "language": "python"
      },
      "execution_count": null,
      "outputs": [],
      "source": [
        "from google.colab import drive",
        "drive.mount('/content/drive')"
      ]
    },
    {
      "cell_type": "markdown",
      "metadata": {
        "language": "markdown"
      },
      "source": [
        "### Reading the data"
      ]
    },
    {
      "cell_type": "code",
      "metadata": {
        "language": "python"
      },
      "execution_count": null,
      "outputs": [],
      "source": [
        "# read the data and show first 5 rows",
        "df = pd.read_csv(\"/content/drive/MyDrive/Datasets ML/cardio_train.csv\",sep=\";\")",
        "df.head(5)"
      ]
    },
    {
      "cell_type": "code",
      "metadata": {
        "language": "python"
      },
      "execution_count": null,
      "outputs": [],
      "source": [
        "df.info()"
      ]
    },
    {
      "cell_type": "markdown",
      "metadata": {
        "language": "markdown"
      },
      "source": [
        "### Initial Inspection"
      ]
    },
    {
      "cell_type": "code",
      "metadata": {
        "language": "python"
      },
      "execution_count": null,
      "outputs": [],
      "source": [
        "print(df.isnull().sum())"
      ]
    },
    {
      "cell_type": "code",
      "metadata": {
        "language": "python"
      },
      "execution_count": null,
      "outputs": [],
      "source": [
        "#drop id",
        "df = df.drop('id', axis=1)"
      ]
    },
    {
      "cell_type": "markdown",
      "metadata": {
        "language": "markdown"
      },
      "source": [
        "### Exploratory Data Analysis (EDA)"
      ]
    },
    {
      "cell_type": "code",
      "metadata": {
        "language": "python"
      },
      "execution_count": null,
      "outputs": [],
      "source": [
        "# Count the number of samples per class",
        "cardio_counts = df['cardio'].value_counts()",
        "print(\"Cardio Class Counts:\\n\", cardio_counts)",
        "# Plot the class distribution",
        "sns.countplot(x='cardio', data=df)",
        "plt.title('Distribution of Target Variable (Cardiovascular Disease)')",
        "plt.xlabel('Cardio (0 = No Disease, 1 = Disease)')",
        "plt.ylabel('Count')",
        "plt.show()"
      ]
    },
    {
      "cell_type": "code",
      "metadata": {
        "language": "python"
      },
      "execution_count": null,
      "outputs": [],
      "source": [
        "# Pairplot of selected features against target",
        "sns.pairplot(df[['age', 'weight', 'ap_hi', 'ap_lo', 'cardio']], hue='cardio')",
        "plt.suptitle(\"Pairplot of Features by Cardio\", y=1.02)",
        "plt.show()"
      ]
    },
    {
      "cell_type": "code",
      "metadata": {
        "language": "python"
      },
      "execution_count": null,
      "outputs": [],
      "source": [
        "# Select relevant columns",
        "outlier_cols = ['height', 'weight', 'ap_hi', 'ap_lo']",
        "",
        "# Melt the DataFrame to long format",
        "df_melted = df[outlier_cols].melt(var_name='Feature', value_name='Value')",
        "",
        "# Create a single boxplot",
        "plt.figure(figsize=(10, 6))",
        "sns.boxplot(x='Feature', y='Value', data=df_melted)",
        "plt.title('Combined Boxplot for Outlier Detection')",
        "plt.grid(True)",
        "plt.show()"
      ]
    },
    {
      "cell_type": "markdown",
      "metadata": {
        "language": "markdown"
      },
      "source": [
        "### Removing Outliers"
      ]
    },
    {
      "cell_type": "code",
      "metadata": {
        "language": "python"
      },
      "execution_count": null,
      "outputs": [],
      "source": [
        "df.drop(df[(df['height'] > df['height'].quantile(0.975)) | (df['height'] < df['height'].quantile(0.025))].index,inplace=True)",
        "df.drop(df[(df['weight'] > df['weight'].quantile(0.975)) | (df['weight'] < df['weight'].quantile(0.025))].index,inplace=True)",
        "df.drop(df[(df['ap_hi'] > df['ap_hi'].quantile(0.975)) | (df['ap_hi'] < df['ap_hi'].quantile(0.025))].index,inplace=True)",
        "df.drop(df[(df['ap_lo'] > df['ap_lo'].quantile(0.975)) | (df['ap_lo'] < df['ap_lo'].quantile(0.025))].index,inplace=True)",
        "len(df)"
      ]
    },
    {
      "cell_type": "code",
      "metadata": {
        "language": "python"
      },
      "execution_count": null,
      "outputs": [],
      "source": [
        "df[df['ap_lo']> df['ap_hi']].shape[0] # To check number of cases where diastolic pressure is higher than systolic?"
      ]
    },
    {
      "cell_type": "code",
      "metadata": {
        "language": "python"
      },
      "execution_count": null,
      "outputs": [],
      "source": [
        "# After removing outliers",
        "df.describe()"
      ]
    },
    {
      "cell_type": "markdown",
      "metadata": {
        "language": "markdown"
      },
      "source": [
        "### Feature Engineering"
      ]
    },
    {
      "cell_type": "code",
      "metadata": {
        "language": "python"
      },
      "execution_count": null,
      "outputs": [],
      "source": [
        "df['age'] = (df['age'] / 365).round().astype('int')  # Transformation: Converting age from days to years",
        "print(df.head())"
      ]
    },
    {
      "cell_type": "code",
      "metadata": {
        "language": "python"
      },
      "execution_count": null,
      "outputs": [],
      "source": [
        "# Categorizing features",
        "# # Define the bin edges and labels",
        "age_edges = [30, 35, 40, 45, 50, 55, 60, 65]",
        "age_labels = [0, 1, 2, 3, 4, 5, 6]",
        "",
        "#  bin in  5 years span",
        "df['age_group'] = pd.cut(df['age'], bins=7, labels=range(7), include_lowest=True,right=True)",
        "df.head()"
      ]
    },
    {
      "cell_type": "code",
      "metadata": {
        "language": "python"
      },
      "execution_count": null,
      "outputs": [],
      "source": [
        "df['bmi'] = df['weight']/((df['height']/100)**2)",
        "df.head()",
        "",
        "bmiMin = int(df['bmi'].min())",
        "bmiMax = int(df['bmi'].max())",
        "",
        "print(bmiMin, bmiMax)",
        "",
        "df['bmi'] = pd.cut(df['bmi'], bins=6, labels=range(6), right=True, include_lowest=True)",
        "",
        "df.head()",
        "",
        "",
        "df[\"bmi\"].value_counts(normalize=True)"
      ]
    },
    {
      "cell_type": "code",
      "metadata": {
        "language": "python"
      },
      "execution_count": null,
      "outputs": [],
      "source": [
        "df['map'] = ((2* df['ap_lo']) + df['ap_hi']) / 3",
        "",
        "mapMin = int(df['map'].min())",
        "mapMax = int(df['map'].max())",
        "",
        "print(mapMin, mapMax)",
        "",
        "df['map'] = pd.cut(df['map'], bins=6, labels=range(6), right=True, include_lowest=True)",
        "",
        "df.head()"
      ]
    },
    {
      "cell_type": "code",
      "metadata": {
        "language": "python"
      },
      "execution_count": null,
      "outputs": [],
      "source": [
        "null_rows = df[df.isnull().any(axis=1)]",
        "print(\"Rows with null values:\")",
        "print(null_rows)"
      ]
    },
    {
      "cell_type": "code",
      "metadata": {
        "language": "python"
      },
      "execution_count": null,
      "outputs": [],
      "source": [
        "# Drop features We only need categorical data",
        "df_og=df",
        "",
        "df=df.drop(['height','weight','ap_hi','ap_lo','age'],axis=1)",
        "",
        "df.head()"
      ]
    },
    {
      "cell_type": "markdown",
      "metadata": {
        "language": "markdown"
      },
      "source": [
        "### Encoding"
      ]
    },
    {
      "cell_type": "code",
      "metadata": {
        "language": "python"
      },
      "execution_count": null,
      "outputs": [],
      "source": [
        "le = preprocessing.LabelEncoder()",
        "df = df.apply(le.fit_transform)",
        "df.describe()"
      ]
    },
    {
      "cell_type": "markdown",
      "metadata": {
        "language": "markdown"
      },
      "source": [
        "### Clustering (KModes)"
      ]
    },
    {
      "cell_type": "code",
      "metadata": {
        "language": "python"
      },
      "execution_count": null,
      "outputs": [],
      "source": [
        "cost = []",
        "num_clusters = range(1,6) # 1 to 5",
        "for i in list(num_clusters):",
        "    kmode = KModes(n_clusters=i, init = \"Huang\", n_init = 5, verbose=0,random_state=1)",
        "    kmode.fit_predict(df)",
        "    cost.append(kmode.cost_)"
      ]
    },
    {
      "cell_type": "code",
      "metadata": {
        "language": "python"
      },
      "execution_count": null,
      "outputs": [],
      "source": [
        "# Clusters graph",
        "plt.plot(num_clusters, cost, 'bo-')",
        "plt.xlabel('num_clusters')",
        "plt.ylabel('Cost')",
        "plt.title('Elbow Method For Optimal Number of Clusters')",
        "plt.show()"
      ]
    },
    {
      "cell_type": "code",
      "metadata": {
        "language": "python"
      },
      "execution_count": null,
      "outputs": [],
      "source": [
        "# Building KModes model",
        "km = KModes(n_clusters=2, init = \"Huang\", n_init = 5,random_state=1)",
        "clusters = km.fit_predict(df)",
        "clusters"
      ]
    },
    {
      "cell_type": "code",
      "metadata": {
        "language": "python"
      },
      "execution_count": null,
      "outputs": [],
      "source": [
        "# Adding clusters column in DF",
        "df.insert(0,\"clusters\",clusters,True)",
        "df.head()"
      ]
    },
    {
      "cell_type": "markdown",
      "metadata": {
        "language": "markdown"
      },
      "source": [
        "### Cluster-Based Visualizations"
      ]
    },
    {
      "cell_type": "code",
      "metadata": {
        "language": "python"
      },
      "execution_count": null,
      "outputs": [],
      "source": [
        "# Correlation Matrix",
        "plt.figure(figsize=(10, 8))",
        "# Draw correlation matrix",
        "sns.heatmap(df.corr(), annot=True, cmap='vlag', fmt=\".2f\", linewidths=.5)",
        "# Show the figure",
        "plt.title('Correlation Matrix')",
        "plt.show()"
      ]
    },
    {
      "cell_type": "code",
      "metadata": {
        "language": "python"
      },
      "execution_count": null,
      "outputs": [],
      "source": [
        "# Distribution of cardio in clusters",
        "sns.countplot(x='clusters', hue='cardio', data=df)",
        "plt.title('Distribution of Cardiovascular Disease within Clusters')",
        "plt.show()"
      ]
    },
    {
      "cell_type": "code",
      "metadata": {
        "language": "python"
      },
      "execution_count": null,
      "outputs": [],
      "source": [
        "x = df.drop(['cardio','gender','alco'], axis=1)",
        "y = df['cardio']",
        "",
        "x.head()"
      ]
    },
    {
      "cell_type": "markdown",
      "metadata": {
        "language": "markdown"
      },
      "source": [
        "### Train-Test Split"
      ]
    },
    {
      "cell_type": "code",
      "metadata": {
        "language": "python"
      },
      "execution_count": null,
      "outputs": [],
      "source": [
        "x_train,x_test,y_train,y_test=train_test_split(x,y,test_size=0.20,random_state=1)"
      ]
    },
    {
      "cell_type": "code",
      "metadata": {
        "language": "python"
      },
      "execution_count": null,
      "outputs": [],
      "source": [
        "x_train.info()"
      ]
    },
    {
      "cell_type": "markdown",
      "metadata": {
        "language": "markdown"
      },
      "source": [
        "### Model training"
      ]
    },
    {
      "cell_type": "markdown",
      "metadata": {
        "language": "markdown"
      },
      "source": [
        "### Random Forest"
      ]
    },
    {
      "cell_type": "code",
      "metadata": {
        "language": "python"
      },
      "execution_count": null,
      "outputs": [],
      "source": [
        "from sklearn.metrics import accuracy_score",
        "rfModel = RandomForestClassifier(",
        "    n_estimators=200,",
        "    max_depth=20,",
        "    min_samples_split=5,",
        "    min_samples_leaf=2,",
        "    max_features='sqrt',",
        "    random_state=1",
        ")",
        "",
        "# Train the model",
        "rfModel.fit(x_train, y_train)",
        "",
        "# Predict on test data",
        "rf_pred = rfModel.predict(x_test)",
        "# Accuracy",
        "rf_accuracy = accuracy_score(y_test, rf_pred) * 100",
        "print(f\"Random Forest Accuracy: {rf_accuracy:.2f}%\")"
      ]
    },
    {
      "cell_type": "markdown",
      "metadata": {
        "language": "markdown"
      },
      "source": [
        "### Performance Evaluation – Random Forest"
      ]
    },
    {
      "cell_type": "code",
      "metadata": {
        "language": "python"
      },
      "execution_count": null,
      "outputs": [],
      "source": [
        "classification_report_str = classification_report(y_test, rf_pred)",
        "",
        "print(\"Classification Report for RF:\\n\", classification_report_str)"
      ]
    },
    {
      "cell_type": "code",
      "metadata": {
        "language": "python"
      },
      "execution_count": null,
      "outputs": [],
      "source": [
        "# Confusion Matrix",
        "cm = confusion_matrix(y_test, rf_pred)",
        "sns.heatmap(cm, annot=True, fmt='d', cmap='Blues')",
        "plt.title(\"Confusion matrix: RF\")",
        "plt.xlabel(\"Predicted\")",
        "plt.ylabel(\"Actual\")",
        "plt.show()"
      ]
    },
    {
      "cell_type": "code",
      "metadata": {
        "language": "python"
      },
      "execution_count": null,
      "outputs": [],
      "source": [
        "# Get predicted probabilities for positive class (1)",
        "rf_probs = rfModel.predict_proba(x_test)[:, 1]",
        "",
        "# Compute ROC curve and AUC score",
        "fpr_rf, tpr_rf, _ = roc_curve(y_test, rf_probs)",
        "auc_rf = roc_auc_score(y_test, rf_probs)",
        "",
        "# Plot ROC curve",
        "plt.figure(figsize=(8, 6))",
        "plt.plot(fpr_rf, tpr_rf, label=f\"Random Forest (AUC = {auc_rf:.2f})\", color='blue')",
        "plt.plot([0, 1], [0, 1], 'k--', label='Random Classifier')",
        "plt.xlabel(\"False Positive Rate\")",
        "plt.ylabel(\"True Positive Rate\")",
        "plt.title(\"ROC Curve - Random Forest\")",
        "plt.legend(loc=\"lower right\")",
        "plt.grid(True)",
        "plt.show()"
      ]
    },
    {
      "cell_type": "markdown",
      "metadata": {
        "language": "markdown"
      },
      "source": [
        "### ANN Model"
      ]
    },
    {
      "cell_type": "code",
      "metadata": {
        "language": "python"
      },
      "execution_count": null,
      "outputs": [],
      "source": [
        "# Define ANN architecture",
        "model = Sequential()",
        "model.add(Dense(128, input_dim=x_train.shape[1], activation='relu'))",
        "model.add(Dropout(0.3))  # prevent overfitting",
        "model.add(Dense(64, activation='relu'))",
        "model.add(Dropout(0.2))",
        "model.add(Dense(32, activation='relu'))",
        "model.add(Dense(1, activation='sigmoid'))  # Binary classification",
        "",
        "# Compile model",
        "model.compile(optimizer='adam', loss='binary_crossentropy', metrics=['accuracy'])"
      ]
    },
    {
      "cell_type": "code",
      "metadata": {
        "language": "python"
      },
      "execution_count": null,
      "outputs": [],
      "source": [
        "# Use early stopping to avoid overfitting",
        "early_stop = EarlyStopping(monitor='val_loss', patience=5, restore_best_weights=True)",
        "",
        "# Train",
        "history = model.fit(",
        "    x_train, y_train,",
        "    validation_split=0.2,",
        "    epochs=100,",
        "    batch_size=32,",
        "    callbacks=[early_stop],",
        "    verbose=1",
        ")"
      ]
    },
    {
      "cell_type": "code",
      "metadata": {
        "language": "python"
      },
      "execution_count": null,
      "outputs": [],
      "source": [
        "# Predict on test set",
        "y_pred_prob = model.predict(x_test)",
        "y_pred = (y_pred_prob > 0.5).astype(int)",
        "",
        "# Accuracy",
        "ann_accuracy = accuracy_score(y_test, y_pred) * 100",
        "print(f\"ANN Accuracy: {ann_accuracy:.2f}%\")"
      ]
    },
    {
      "cell_type": "markdown",
      "metadata": {
        "language": "markdown"
      },
      "source": [
        "### Performance Evaluation – ANN"
      ]
    },
    {
      "cell_type": "code",
      "metadata": {
        "language": "python"
      },
      "execution_count": null,
      "outputs": [],
      "source": [
        "# Report",
        "print(\"Classification Report:\\n\", classification_report(y_test, y_pred))"
      ]
    },
    {
      "cell_type": "code",
      "metadata": {
        "language": "python"
      },
      "execution_count": null,
      "outputs": [],
      "source": [
        "# Confusion Matrix",
        "cm = confusion_matrix(y_test, y_pred)",
        "sns.heatmap(cm, annot=True, fmt='d', cmap='Blues')",
        "plt.title(\"Confusion Matrix - ANN\")",
        "plt.xlabel(\"Predicted\")",
        "plt.ylabel(\"Actual\")",
        "plt.show()"
      ]
    },
    {
      "cell_type": "code",
      "metadata": {
        "language": "python"
      },
      "execution_count": null,
      "outputs": [],
      "source": [
        "fpr_ann, tpr_ann, _ = roc_curve(y_test, y_pred_prob)",
        "auc_ann = roc_auc_score(y_test, y_pred_prob)",
        "",
        "plt.figure(figsize=(8, 6))",
        "plt.plot(fpr_ann, tpr_ann, label=f\"ANN (AUC = {auc_ann:.2f})\", color='green')",
        "plt.plot([0, 1], [0, 1], 'k--', label='ANN')",
        "plt.xlabel(\"False Positive Rate\")",
        "plt.ylabel(\"True Positive Rate\")",
        "plt.title(\"ROC Curve - ANN\")",
        "plt.legend(loc=\"lower right\")",
        "plt.grid(True)",
        "plt.show()"
      ]
    },
    {
      "cell_type": "markdown",
      "metadata": {
        "language": "markdown"
      },
      "source": [
        "### Performance Comparison"
      ]
    },
    {
      "cell_type": "code",
      "metadata": {
        "language": "python"
      },
      "execution_count": null,
      "outputs": [],
      "source": [
        "print(f\"Random Forest Accuracy: {rf_accuracy:.2f}% | AUC: {auc_rf:.2f}\")",
        "print(f\"ANN Accuracy: {ann_accuracy:.2f}%       | AUC: {auc_ann:.2f}\")"
      ]
    },
    {
      "cell_type": "code",
      "metadata": {
        "language": "python"
      },
      "execution_count": null,
      "outputs": [],
      "source": [
        "plt.figure(figsize=(8, 6))",
        "plt.plot(fpr_rf, tpr_rf, label=f\"Random Forest (AUC = {auc_rf:.2f})\", color='blue')",
        "plt.plot(fpr_ann, tpr_ann, label=f\"ANN (AUC = {auc_ann:.2f})\", color='green')",
        "plt.plot([0, 1], [0, 1], 'k--')",
        "plt.xlabel(\"False Positive Rate\")",
        "plt.ylabel(\"True Positive Rate\")",
        "plt.title(\"ROC Curve Comparison\")",
        "plt.legend(loc=\"lower right\")",
        "plt.grid(True)",
        "plt.show()"
      ]
    },
    {
      "cell_type": "code",
      "metadata": {
        "language": "python"
      },
      "execution_count": null,
      "outputs": [],
      "source": [
        ""
      ]
    }
  ],
  "metadata": {
    "kernelspec": {
      "display_name": "Python 3",
      "language": "python",
      "name": "python3"
    },
    "language_info": {
      "codemirror_mode": {
        "name": "ipython",
        "version": 3
      },
      "file_extension": ".py",
      "mimetype": "text/x-python",
      "name": "python",
      "nbconvert_exporter": "python",
      "pygments_lexer": "ipython3",
      "version": "3.8"
    }
  },
  "nbformat": 4,
  "nbformat_minor": 5
}